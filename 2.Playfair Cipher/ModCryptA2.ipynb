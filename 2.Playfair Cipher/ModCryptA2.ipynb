{
  "nbformat": 4,
  "nbformat_minor": 0,
  "metadata": {
    "colab": {
      "name": "ModCryptA2.ipynb",
      "provenance": [],
      "collapsed_sections": []
    },
    "kernelspec": {
      "name": "python3",
      "display_name": "Python 3"
    },
    "language_info": {
      "name": "python"
    }
  },
  "cells": [
    {
      "cell_type": "code",
      "execution_count": null,
      "metadata": {
        "colab": {
          "base_uri": "https://localhost:8080/"
        },
        "id": "tPSPSPkkmTbz",
        "outputId": "b6add2bb-91a8-4fd1-9638-4fae7081d654"
      },
      "outputs": [
        {
          "output_type": "stream",
          "name": "stdout",
          "text": [
            "Please enter the key for playfair cipher:CRYPTANALYSIS\n",
            "ENTER CIPHER TEXT:DF ULYP XO CQD LFWC RUBHEDY, CQDYG LN XDYL EGIYIG LMP CQDYF. LYFNH HXPZ CQF YNILXKPB \"NDCB_AN_BBHCN\" PQ FQ CQPKZBK. OLC PMC UNUG YMB IPYDIDCQ OXY CMB LDZP AULHDFY. CX OALG RMB FWGI PMX BNTIP ZLSWS LFWFE PQ ZCYGY KIBAT XMNKI PMBYD.\n",
            "The plain text is: BE WA RY OF TH EN EX TC HA MB ER TH ER EI SV ER YL IT TL EI OY TH ER ES PE AK OU TX TH EP AS SW OR DA BR AC AD AB RA TO GO TH RO UG HM AY YO UH AV ET HE ST RE NG TH FO RT HE NE XT CH AM BE RT OF IN DT HE EX IT YO UF IR ST WI LX LN EX ED TO UT TE RM AG IC WO RD ST HE RE "
          ]
        }
      ],
      "source": [
        "key=input(\"Please enter the key for playfair cipher:\")\n",
        "key=key.replace(\" \", \"\") #Removing any spaces if any in the key\n",
        "key=key.upper() #Converting all characters of key to the same case, i.e., upper case\n",
        "def matrix(x,y,initial): #Defined a matrix with dimensions x*y and containing all values='initial'\n",
        "    return [[initial for i in range(x)] for j in range(y)]\n",
        "    \n",
        "result=list() #Creating a list that stores the results.\n",
        "\n",
        "for c in key: #storing key in the results list\n",
        "    if c not in result:\n",
        "        if c=='J':\n",
        "            result.append('I') #I and J are addedtogether as there are only 25 cells and the no. of alphabets are 26.\n",
        "        else:\n",
        "            result.append(c)\n",
        "flag=0\n",
        "for i in range(65,91): #storing other characters on the basis of ASCII values\n",
        "    if chr(i) not in result:\n",
        "        if i==73 and chr(74) not in result: #73->I and 74->J in ASCII values\n",
        "            result.append(\"I\")\n",
        "            flag=1\n",
        "        elif flag==0 and i==73 or i==74:\n",
        "            pass    \n",
        "        else:\n",
        "            result.append(chr(i))\n",
        "k=0\n",
        "my_matrix=matrix(5,5,0) #initialize matrix with all 0s\n",
        "for i in range(0,5): #making matrix\n",
        "    for j in range(0,5):\n",
        "        my_matrix[i][j]=result[k]\n",
        "        k+=1\n",
        "\n",
        "def locindex(c): #get location of each character\n",
        "    loc=list()\n",
        "    if c=='J':\n",
        "        c='I'\n",
        "    for i ,j in enumerate(my_matrix):\n",
        "        for k,l in enumerate(j):\n",
        "            if c==l:\n",
        "                loc.append(i)\n",
        "                loc.append(k)\n",
        "                return loc    \n",
        "                 \n",
        "\n",
        "msg=str(input(\"ENTER CIPHER TEXT:\"))\n",
        "msg=msg.upper()\n",
        "msg=msg.replace(\" \", \"\") #Removing blank spaces\n",
        "msg=msg.replace(\",\", \"\") #Removing commas\n",
        "msg=msg.replace(\".\", \"\") #Removing full stops\n",
        "msg=msg.replace('\"', \"\") #Removing double quotes\n",
        "msg=msg.replace('_', \"\") #Removing under scores\n",
        "#All the above tasks are done because Playfair cipher only works for English alphabets only.\n",
        "print(\"The plain text is:\",end=' ')\n",
        "i=0\n",
        "while i<len(msg): #Iterating the cipher code letter by letter:\n",
        "    loc=list() #Creating an empty list \n",
        "    loc=locindex(msg[i]) #Gets location of ith letter in the matrix of Key, and appends it to the list\n",
        "    loc1=list() #Creating a new empty list\n",
        "    loc1=locindex(msg[i+1]) #Gets location of (i+1)th letter in the matrix of Key, and appends it to the list\n",
        "    if loc[1]==loc1[1]: #If both letters of digraph are in same row:\n",
        "        print(\"{}{}\".format(my_matrix[(loc[0]-1)%5][loc[1]],my_matrix[(loc1[0]-1)%5][loc1[1]]),end=' ') #Go 1 place left in the matrix. For corner cases we do modulo 5 to get round about.\n",
        "    elif loc[0]==loc1[0]: #If both letters of digraph are in same column:\n",
        "        print(\"{}{}\".format(my_matrix[loc[0]][(loc[1]-1)%5],my_matrix[loc1[0]][(loc1[1]-1)%5]),end=' ')  #Go 1 place up in the matrix. For corner cases we do modulo 5 to get round about.\n",
        "    else: #If both letters of digraph are in different rows: and columns:\n",
        "        print(\"{}{}\".format(my_matrix[loc[0]][loc1[1]],my_matrix[loc1[0]][loc[1]]),end=' ')  #Go to leftmost of the matrix for diagonal elements.  \n",
        "    i=i+2        # Increment by 2 because we are working with digraphs."
      ]
    },
    {
      "cell_type": "code",
      "source": [
        ""
      ],
      "metadata": {
        "id": "ASQ-WM9dmUgW"
      },
      "execution_count": null,
      "outputs": []
    }
  ]
}