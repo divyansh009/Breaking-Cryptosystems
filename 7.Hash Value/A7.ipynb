{
  "cells": [
    {
      "cell_type": "code",
      "execution_count": 1,
      "metadata": {
        "colab": {
          "base_uri": "https://localhost:8080/",
          "height": 165
        },
        "id": "q_P6l5AGDboc",
        "outputId": "6822e104-a271-4ae4-85a1-b2c26340d3ed"
      },
      "outputs": [
        {
          "name": "stdout",
          "output_type": "stream",
          "text": [
            "[102, 104, 104, 106, 106, 108, 108, 108, 109, 111, 111, 112, 112, 113, 114, 114, 115, 116, 116, 116, 117, 117]\n"
          ]
        },
        {
          "ename": "SystemExit",
          "evalue": "ignored",
          "output_type": "error",
          "traceback": [
            "An exception has occurred, use %tb to see the full traceback.\n",
            "\u001b[0;31mSystemExit\u001b[0m\n"
          ]
        },
        {
          "name": "stderr",
          "output_type": "stream",
          "text": [
            "/usr/local/lib/python3.7/dist-packages/IPython/core/interactiveshell.py:2890: UserWarning: To exit: use 'exit', 'quit', or Ctrl-D.\n",
            "  warn(\"To exit: use 'exit', 'quit', or Ctrl-D.\", stacklevel=1)\n"
          ]
        }
      ],
      "source": [
        "import sys\n",
        "\n",
        "codes = [22, 26, 79, 117, 81, 116, 56, 41, 110, 0, 102, 57, 50, 109, 107, 89, 59, 102, 15, 121, 91, 116, 89, 56, 47, 91, 6, 54, 92, 67, 43, 122]\n",
        "\n",
        "def hash_function(arr):\n",
        "    for i in range(2,14):\n",
        "        res = sum(map(lambda x : x ** i, arr))\n",
        "        res = res%127\n",
        "        if(res != codes[i]):\n",
        "          return False\n",
        "    return True\n",
        "\n",
        "def gen(n,arr,i,c):\n",
        "  if i == n:\n",
        "    if hash_function(arr):\n",
        "      print(arr)\n",
        "      #since we used system exit the program will stop as an exception after printing the answer array\n",
        "      sys.exit()\n",
        "    return \n",
        "  \n",
        "  for j in range(c,118):\n",
        "    arr[i] = j\n",
        "    gen(n,arr,i+1,j)\n",
        "\n",
        "n = 22\n",
        "arr = [None] * n\n",
        "gen(n,arr,0,102)"
      ]
    },
    {
      "cell_type": "code",
      "execution_count": null,
      "metadata": {
        "id": "2idjQkYIDm0V"
      },
      "outputs": [],
      "source": []
    }
  ],
  "metadata": {
    "colab": {
      "name": "Untitled0.ipynb",
      "provenance": []
    },
    "kernelspec": {
      "display_name": "Python 3",
      "name": "python3"
    },
    "language_info": {
      "name": "python"
    }
  },
  "nbformat": 4,
  "nbformat_minor": 0
}
