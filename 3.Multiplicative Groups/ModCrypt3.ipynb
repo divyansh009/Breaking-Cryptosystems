{
  "nbformat": 4,
  "nbformat_minor": 0,
  "metadata": {
    "colab": {
      "name": "ModCrypt3.ipynb",
      "provenance": []
    },
    "kernelspec": {
      "name": "python3",
      "display_name": "Python 3"
    },
    "language_info": {
      "name": "python"
    }
  },
  "cells": [
    {
      "cell_type": "code",
      "execution_count": 1,
      "metadata": {
        "colab": {
          "base_uri": "https://localhost:8080/"
        },
        "id": "6Ezjy82-k_dJ",
        "outputId": "d7084ddb-3ab8-457a-f5a7-63ba8f8f1eb6"
      },
      "outputs": [
        {
          "output_type": "stream",
          "name": "stdout",
          "text": [
            "Modular multiplicative inverse is 17983774594023309985368857902\n"
          ]
        }
      ],
      "source": [
        "def modInverse(a, m):\n",
        "    m0 = m\n",
        "    y = 0\n",
        "    x = 1\n",
        " \n",
        "    if (m == 1):\n",
        "        return 0\n",
        " \n",
        "    while (a > 1):\n",
        " \n",
        "        # q is quotient\n",
        "        q = a // m\n",
        " \n",
        "        t = m\n",
        " \n",
        "        # m is remainder now, process\n",
        "        # same as Euclid's algo\n",
        "        m = a % m\n",
        "        a = t\n",
        "        t = y\n",
        " \n",
        "        # Update x and y\n",
        "        y = x - q * y\n",
        "        x = t\n",
        " \n",
        "    # Make x positive\n",
        "    if (x < 0):\n",
        "        x = x + m0\n",
        " \n",
        "    return x\n",
        " \n",
        " \n",
        "# Driver code\n",
        "a = 11226815350263531814963336315\n",
        "m = 19807040628566084398385987581\n",
        " \n",
        "# Function call\n",
        "print(\"Modular multiplicative inverse is\",\n",
        "      modInverse(a, m))\n"
      ]
    },
    {
      "cell_type": "code",
      "source": [
        ""
      ],
      "metadata": {
        "id": "oP_A8u1nlBit"
      },
      "execution_count": null,
      "outputs": []
    }
  ]
}