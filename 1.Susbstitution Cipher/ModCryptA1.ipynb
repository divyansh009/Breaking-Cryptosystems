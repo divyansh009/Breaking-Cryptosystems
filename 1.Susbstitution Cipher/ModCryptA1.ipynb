{
  "nbformat": 4,
  "nbformat_minor": 0,
  "metadata": {
    "colab": {
      "name": "ModCryptA1.ipynb",
      "provenance": [],
      "collapsed_sections": []
    },
    "kernelspec": {
      "name": "python3",
      "display_name": "Python 3"
    },
    "language_info": {
      "name": "python"
    }
  },
  "cells": [
    {
      "cell_type": "code",
      "source": [
        "#Created a dictionary that returns count of all the alphabets in the given encrypted message:\n",
        "freq_all={}\n",
        "encryp=\"omkf pi hdn cmgef icphsck .H krg vphqkc c, fic mco kqgf ioqag eo qfcmckf oq ficpihdn cm .Kg dcgeficu hfcm pi hdn cmklo uuncdgmc oqfc mc kfoq afihqfiokgq c!Fi cpgy cvkc yeg mfio kdck kha cokh kodjuck vn k fofvfo gqpojicmoqli opiyoa of kihsc nccqki oefc ynr2 juhpck. Fi c jhkklgm yok oMxr9V1x ya flofigvffic xvgfck. Fio kokfice\"\n",
        "#Converting everything to upper case:\n",
        "encryp=encryp.upper()\n",
        "for i in encryp:\n",
        "  if i in freq_all:\n",
        "    freq_all[i]+=1\n",
        "  else:\n",
        "    freq_all[i]=1\n",
        "print(str(freq_all))"
      ],
      "metadata": {
        "colab": {
          "base_uri": "https://localhost:8080/"
        },
        "id": "mNxr8rTav-Hk",
        "outputId": "7357a0aa-fefd-4d80-972a-22e85870f6e2"
      },
      "execution_count": null,
      "outputs": [
        {
          "output_type": "stream",
          "name": "stdout",
          "text": [
            "{'O': 25, 'M': 13, 'K': 27, 'F': 28, ' ': 58, 'P': 9, 'I': 22, 'H': 13, 'D': 7, 'N': 7, 'C': 36, 'G': 14, 'E': 6, 'S': 2, '.': 4, 'R': 3, 'V': 7, 'Q': 12, ',': 1, 'A': 5, 'U': 5, 'L': 4, '!': 1, 'Y': 6, 'J': 4, '2': 1, 'X': 3, '9': 1, '1': 1}\n"
          ]
        }
      ]
    },
    {
      "cell_type": "code",
      "source": [
        "#Getting a better visualization of frequencies of all characters:\n",
        "dict(freq_all.items())"
      ],
      "metadata": {
        "colab": {
          "base_uri": "https://localhost:8080/"
        },
        "id": "LZi3VnFKxHuc",
        "outputId": "6147313d-a5bf-4b2d-cdfb-36560d37e03c"
      },
      "execution_count": null,
      "outputs": [
        {
          "output_type": "execute_result",
          "data": {
            "text/plain": [
              "{' ': 58,\n",
              " '!': 1,\n",
              " ',': 1,\n",
              " '.': 4,\n",
              " '1': 1,\n",
              " '2': 1,\n",
              " '9': 1,\n",
              " 'A': 5,\n",
              " 'C': 36,\n",
              " 'D': 7,\n",
              " 'E': 6,\n",
              " 'F': 28,\n",
              " 'G': 14,\n",
              " 'H': 13,\n",
              " 'I': 22,\n",
              " 'J': 4,\n",
              " 'K': 27,\n",
              " 'L': 4,\n",
              " 'M': 13,\n",
              " 'N': 7,\n",
              " 'O': 25,\n",
              " 'P': 9,\n",
              " 'Q': 12,\n",
              " 'R': 3,\n",
              " 'S': 2,\n",
              " 'U': 5,\n",
              " 'V': 7,\n",
              " 'X': 3,\n",
              " 'Y': 6}"
            ]
          },
          "metadata": {},
          "execution_count": 36
        }
      ]
    },
    {
      "cell_type": "markdown",
      "source": [
        "In terms of overall percentage, the data is as follows:\n",
        "\n",
        "{'A': 1.93,\n",
        "\n",
        " 'B': 0,\n",
        "\n",
        " 'C': 13.95,\n",
        "\n",
        " 'D': 2.71,\n",
        "\n",
        " 'E': 2.32,\n",
        "\n",
        " 'F': 10.85,\n",
        "\n",
        " 'G':5.42,\n",
        "\n",
        " 'H': 5.03,\n",
        "\n",
        " 'I': 8.52,\n",
        "\n",
        " 'J': 1.55,\n",
        "\n",
        " 'K': 10.46,\n",
        "\n",
        " 'L': 1.55,\n",
        "\n",
        " 'M': 5.03,\n",
        "\n",
        " 'N': 2.71,\n",
        "\n",
        " 'O': 9.68,\n",
        "\n",
        " 'P': 3.48,\n",
        "\n",
        " 'Q': 4.65,\n",
        "\n",
        " 'R': 1.16,\n",
        "\n",
        " 'S': 0.77,\n",
        "\n",
        " 'T': 0,\n",
        "\n",
        " 'U': 1.93,\n",
        "\n",
        " 'V': 2.71,\n",
        "\n",
        " 'W': 0,\n",
        "\n",
        " 'X': 1.16,\n",
        "\n",
        " 'Y': 2.32\n",
        " \n",
        " 'Z': 0}"
      ],
      "metadata": {
        "id": "Us-bwYgQuSWa"
      }
    },
    {
      "cell_type": "code",
      "source": [
        "#Clearly, most frequent character if we ignore the space is letter \"c\" with a count of 36. So, we can substitute it with \"e\", which is the most frequent character in general.\n",
        "encryp=encryp.replace('C','e')\n",
        "print(encryp)"
      ],
      "metadata": {
        "colab": {
          "base_uri": "https://localhost:8080/"
        },
        "id": "_XVkKFF-yF6v",
        "outputId": "d3ad3e75-57b7-4f64-9e60-c85175e7b6bd"
      },
      "execution_count": null,
      "outputs": [
        {
          "output_type": "stream",
          "name": "stdout",
          "text": [
            "OMKF PI HDN eMGEF IePHSeK .H KRG VPHQKe e, FIe MeO KQGF IOQAG EO QFeMeKF OQ FIePIHDN eM .KG DeGEFIeU HFeM PI HDN eMKLO UUNeDGMe OQFe Me KFOQ AFIHQFIOKGQ e!FI ePGY eVKe YEG MFIO KDeK KHA eOKH KODJUeK VN K FOFVFO GQPOJIeMOQLI OPIYOA OF KIHSe NeeQKI OEFe YNR2 JUHPeK. FI e JHKKLGM YOK OMXR9V1X YA FLOFIGVFFIe XVGFeK. FIO KOKFIeE\n"
          ]
        }
      ]
    },
    {
      "cell_type": "code",
      "source": [
        "#2nd most occuring alphabet 'F' will be replaced by 'T':\n",
        "encryp=encryp.replace('F','t')\n",
        "print(encryp)"
      ],
      "metadata": {
        "colab": {
          "base_uri": "https://localhost:8080/"
        },
        "id": "wvEnBOgQmyvL",
        "outputId": "46759703-1cca-4429-fa8c-d2ebd41a6769"
      },
      "execution_count": null,
      "outputs": [
        {
          "output_type": "stream",
          "name": "stdout",
          "text": [
            "OMKt PI HDN eMGEt IePHSeK .H KRG VPHQKe e, tIe MeO KQGt IOQAG EO QteMeKt OQ tIePIHDN eM .KG DeGEtIeU HteM PI HDN eMKLO UUNeDGMe OQte Me KtOQ AtIHQtIOKGQ e!tI ePGY eVKe YEG MtIO KDeK KHA eOKH KODJUeK VN K tOtVtO GQPOJIeMOQLI OPIYOA Ot KIHSe NeeQKI OEte YNR2 JUHPeK. tI e JHKKLGM YOK OMXR9V1X YA tLOtIGVttIe XVGteK. tIO KOKtIeE\n"
          ]
        }
      ]
    },
    {
      "cell_type": "code",
      "source": [
        "#A single letter starting word is generally 'I' or 'A'. We tried using 'I', but, were stuck later. So, we replace 'H' with 'A' here:\n",
        "encryp=encryp.replace('H','a')\n",
        "print(encryp)"
      ],
      "metadata": {
        "colab": {
          "base_uri": "https://localhost:8080/"
        },
        "id": "VlTqHFwerXrQ",
        "outputId": "3446b398-576c-4d1f-92c6-aa494c02f110"
      },
      "execution_count": null,
      "outputs": [
        {
          "output_type": "stream",
          "name": "stdout",
          "text": [
            "OMKt PI aDN eMGEt IePaSeK .a KRG VPaQKe e, tIe MeO KQGt IOQAG EO QteMeKt OQ tIePIaDN eM .KG DeGEtIeU ateM PI aDN eMKLO UUNeDGMe OQte Me KtOQ AtIaQtIOKGQ e!tI ePGY eVKe YEG MtIO KDeK KaA eOKa KODJUeK VN K tOtVtO GQPOJIeMOQLI OPIYOA Ot KIaSe NeeQKI OEte YNR2 JUaPeK. tI e JaKKLGM YOK OMXR9V1X YA tLOtIGVttIe XVGteK. tIO KOKtIeE\n"
          ]
        }
      ]
    },
    {
      "cell_type": "code",
      "source": [
        "#It can be figured out easily that the word 'TIE' must definitely be 'THE'. So, we replace 'I' by 'H'.\n",
        "encryp=encryp.replace('I','h')\n",
        "print(encryp)"
      ],
      "metadata": {
        "colab": {
          "base_uri": "https://localhost:8080/"
        },
        "id": "ZaMUb1TZq0-6",
        "outputId": "5671727e-9035-4a96-d5e5-563a801503f2"
      },
      "execution_count": null,
      "outputs": [
        {
          "output_type": "stream",
          "name": "stdout",
          "text": [
            "OMKt Ph aDN eMGEt hePaSeK .a KRG VPaQKe e, the MeO KQGt hOQAG EO QteMeKt OQ thePhaDN eM .KG DeGEtheU ateM Ph aDN eMKLO UUNeDGMe OQte Me KtOQ AthaQthOKGQ e!th ePGY eVKe YEG MthO KDeK KaA eOKa KODJUeK VN K tOtVtO GQPOJheMOQLh OPhYOA Ot KhaSe NeeQKh OEte YNR2 JUaPeK. th e JaKKLGM YOK OMXR9V1X YA tLOthGVtthe XVGteK. thO KOKtheE\n"
          ]
        }
      ]
    },
    {
      "cell_type": "code",
      "source": [
        "#The letter 'O' closely substitutes letter 'I' at many places and makes sense. Also, letters 'OQ occur frequently. So, they must be 'IN' most probably.\n",
        "encryp=encryp.replace('O','i')\n",
        "encryp=encryp.replace('Q','n')\n",
        "print(encryp)"
      ],
      "metadata": {
        "colab": {
          "base_uri": "https://localhost:8080/"
        },
        "id": "_llBiG3_rXn2",
        "outputId": "4c607940-0d7b-478d-8edb-f6fbaf73ecd6"
      },
      "execution_count": null,
      "outputs": [
        {
          "output_type": "stream",
          "name": "stdout",
          "text": [
            "iMKt Ph aDN eMGEt hePaSeK .a KRG VPanKe e, the Mei KnGt hinAG Ei nteMeKt in thePhaDN eM .KG DeGEtheU ateM Ph aDN eMKLi UUNeDGMe inte Me Ktin AthanthiKGn e!th ePGY eVKe YEG Mthi KDeK KaA eiKa KiDJUeK VN K titVti GnPiJheMinLh iPhYiA it KhaSe NeenKh iEte YNR2 JUaPeK. th e JaKKLGM YiK iMXR9V1X YA tLithGVtthe XVGteK. thi KiKtheE\n"
          ]
        }
      ]
    },
    {
      "cell_type": "code",
      "source": [
        "#In last line 'THI K' is clarly 'THI S'. So, we replace 'K' with 'S'.\n",
        "encryp=encryp.replace('K','s')\n",
        "print(encryp)"
      ],
      "metadata": {
        "colab": {
          "base_uri": "https://localhost:8080/"
        },
        "id": "jR6V689IrXkk",
        "outputId": "b30b73fb-d291-41a3-adea-d86fcf2fc2de"
      },
      "execution_count": null,
      "outputs": [
        {
          "output_type": "stream",
          "name": "stdout",
          "text": [
            "iMst Ph aDN eMGEt hePaSes .a sRG VPanse e, the Mei snGt hinAG Ei nteMest in thePhaDN eM .sG DeGEtheU ateM Ph aDN eMsLi UUNeDGMe inte Me stin AthanthisGn e!th ePGY eVse YEG Mthi sDes saA eisa siDJUes VN s titVti GnPiJheMinLh iPhYiA it shaSe Neensh iEte YNR2 JUaPes. th e JassLGM Yis iMXR9V1X YA tLithGVtthe XVGtes. thi sistheE\n"
          ]
        }
      ]
    },
    {
      "cell_type": "code",
      "source": [
        "#It seems that the last sentence continues with the first sentence. So, we replace 'E' with 'F' and 'M' with 'R'.\n",
        "encryp=encryp.replace('E','f')\n",
        "encryp=encryp.replace('M','r')\n",
        "print(encryp)"
      ],
      "metadata": {
        "colab": {
          "base_uri": "https://localhost:8080/"
        },
        "id": "cYGpn_ymrXht",
        "outputId": "9e70cb66-f4bf-476b-e147-12f1161d4d69"
      },
      "execution_count": null,
      "outputs": [
        {
          "output_type": "stream",
          "name": "stdout",
          "text": [
            "irst Ph aDN erGft hePaSes .a sRG VPanse e, the rei snGt hinAG fi nterest in thePhaDN er .sG DeGftheU ater Ph aDN ersLi UUNeDGre inte re stin AthanthisGn e!th ePGY eVse YfG rthi sDes saA eisa siDJUes VN s titVti GnPiJherinLh iPhYiA it shaSe Neensh ifte YNR2 JUaPes. th e JassLGr Yis irXR9V1X YA tLithGVtthe XVGtes. thi sisthef\n"
          ]
        }
      ]
    },
    {
      "cell_type": "code",
      "source": [
        "#'interestinA' must be 'interesting'. So, we replace 'A' by 'G'.\n",
        "encryp=encryp.replace('A','g')\n",
        "print(encryp)"
      ],
      "metadata": {
        "colab": {
          "base_uri": "https://localhost:8080/"
        },
        "id": "Z6y8o6LNrXe6",
        "outputId": "91a17aba-aab6-4656-dc8a-ebce4250ebc9"
      },
      "execution_count": null,
      "outputs": [
        {
          "output_type": "stream",
          "name": "stdout",
          "text": [
            "irst Ph aDN erGft hePaSes .a sRG VPanse e, the rei snGt hingG fi nterest in thePhaDN er .sG DeGftheU ater Ph aDN ersLi UUNeDGre inte re stin gthanthisGn e!th ePGY eVse YfG rthi sDes sag eisa siDJUes VN s titVti GnPiJherinLh iPhYig it shaSe Neensh ifte YNR2 JUaPes. th e JassLGr Yis irXR9V1X Yg tLithGVtthe XVGtes. thi sisthef\n"
          ]
        }
      ]
    },
    {
      "cell_type": "code",
      "source": [
        "#'Gne' must be 'One'. So, we replace 'G' with 'O'.\n",
        "encryp=encryp.replace('G','o')\n",
        "print(encryp)"
      ],
      "metadata": {
        "colab": {
          "base_uri": "https://localhost:8080/"
        },
        "id": "d1ImGtEdrXbr",
        "outputId": "9be1da32-1d23-4d63-defd-a6f99db22a9a"
      },
      "execution_count": null,
      "outputs": [
        {
          "output_type": "stream",
          "name": "stdout",
          "text": [
            "irst Ph aDN eroft hePaSes .a sRo VPanse e, the rei snot hingo fi nterest in thePhaDN er .so DeoftheU ater Ph aDN ersLi UUNeDore inte re stin gthanthison e!th ePoY eVse Yfo rthi sDes sag eisa siDJUes VN s titVti onPiJherinLh iPhYig it shaSe Neensh ifte YNR2 JUaPes. th e JassLor Yis irXR9V1X Yg tLithoVtthe XVotes. thi sisthef\n"
          ]
        }
      ]
    },
    {
      "cell_type": "code",
      "source": [
        "#'Uater' must be 'Later'. So, we replace 'U' with 'L'.\n",
        "encryp=encryp.replace('U','l')\n",
        "print(encryp)"
      ],
      "metadata": {
        "colab": {
          "base_uri": "https://localhost:8080/"
        },
        "id": "uL-zYigOrXYV",
        "outputId": "28eef91c-90d5-4fe3-9150-6ad62cf3a1d8"
      },
      "execution_count": null,
      "outputs": [
        {
          "output_type": "stream",
          "name": "stdout",
          "text": [
            "irst Ph aDN eroft hePaSes .a sRo VPanse e, the rei snot hingo fi nterest in thePhaDN er .so Deofthel ater Ph aDN ersLi llNeDore inte re stin gthanthison e!th ePoY eVse Yfo rthi sDes sag eisa siDJles VN s titVti onPiJherinLh iPhYig it shaSe Neensh ifte YNR2 JlaPes. th e JassLor Yis irXR9V1X Yg tLithoVtthe XVotes. thi sisthef\n"
          ]
        }
      ]
    },
    {
      "cell_type": "code",
      "source": [
        "#'Dessage' must be 'Message'. So, we replace 'D' with 'M'.\n",
        "encryp=encryp.replace('D','m')\n",
        "print(encryp)"
      ],
      "metadata": {
        "colab": {
          "base_uri": "https://localhost:8080/"
        },
        "id": "s4XQ4lRjrXVW",
        "outputId": "64f13e94-5f48-491b-c427-76d35a0cb7fa"
      },
      "execution_count": null,
      "outputs": [
        {
          "output_type": "stream",
          "name": "stdout",
          "text": [
            "irst Ph amN eroft hePaSes .a sRo VPanse e, the rei snot hingo fi nterest in thePhamN er .so meofthel ater Ph amN ersLi llNemore inte re stin gthanthison e!th ePoY eVse Yfo rthi smes sag eisa simJles VN s titVti onPiJherinLh iPhYig it shaSe Neensh ifte YNR2 JlaPes. th e JassLor Yis irXR9V1X Yg tLithoVtthe XVotes. thi sisthef\n"
          ]
        }
      ]
    },
    {
      "cell_type": "code",
      "source": [
        "#'sinJle' must be 'simPle'. So, we replace 'J' by 'P'.\n",
        "encryp=encryp.replace('J','p')\n",
        "print(encryp)"
      ],
      "metadata": {
        "colab": {
          "base_uri": "https://localhost:8080/"
        },
        "id": "dcHc99wCrXSU",
        "outputId": "9dc53306-1959-4fa6-e082-ec53df2626db"
      },
      "execution_count": null,
      "outputs": [
        {
          "output_type": "stream",
          "name": "stdout",
          "text": [
            "irst Ph amN eroft hePaSes .a sRo VPanse e, the rei snot hingo fi nterest in thePhamN er .so meofthel ater Ph amN ersLi llNemore inte re stin gthanthison e!th ePoY eVse Yfo rthi smes sag eisa simples VN s titVti onPipherinLh iPhYig it shaSe Neensh ifte YNR2 plaPes. th e passLor Yis irXR9V1X Yg tLithoVtthe XVotes. thi sisthef\n"
          ]
        }
      ]
    },
    {
      "cell_type": "code",
      "source": [
        "#'passLorY' must be 'passWorD'. So, we replace 'L' by 'W' and 'Y' by 'D'.\n",
        "encryp=encryp.replace('L','w')\n",
        "encryp=encryp.replace('Y','d')\n",
        "print(encryp)"
      ],
      "metadata": {
        "colab": {
          "base_uri": "https://localhost:8080/"
        },
        "id": "iLH3bP6RrW-e",
        "outputId": "87f07ea3-5de3-4618-8dda-579420f5ad2d"
      },
      "execution_count": null,
      "outputs": [
        {
          "output_type": "stream",
          "name": "stdout",
          "text": [
            "irst Ph amN eroft hePaSes .a sRo VPanse e, the rei snot hingo fi nterest in thePhamN er .so meofthel ater Ph amN erswi llNemore inte re stin gthanthison e!th ePod eVse dfo rthi smes sag eisa simples VN s titVti onPipherinwh iPhdig it shaSe Neensh ifte dNR2 plaPes. th e passwor dis irXR9V1X dg twithoVtthe XVotes. thi sisthef\n"
          ]
        }
      ]
    },
    {
      "cell_type": "code",
      "source": [
        "#'PhamNer' must be 'ChamBer'. So, we replace 'P' by 'C' and 'N' by 'B'.\n",
        "encryp=encryp.replace('P','c')\n",
        "encryp=encryp.replace('N','b')\n",
        "print(encryp)"
      ],
      "metadata": {
        "colab": {
          "base_uri": "https://localhost:8080/"
        },
        "id": "rNrXoc9912tj",
        "outputId": "053d2e4c-3824-4457-b0cc-849d98d02e60"
      },
      "execution_count": null,
      "outputs": [
        {
          "output_type": "stream",
          "name": "stdout",
          "text": [
            "irst ch amb eroft hecaSes .a sRo Vcanse e, the rei snot hingo fi nterest in thechamb er .so meofthel ater ch amb erswi llbemore inte re stin gthanthison e!th ecod eVse dfo rthi smes sag eisa simples Vb s titVti oncipherinwh ichdig it shaSe beensh ifte dbR2 places. th e passwor dis irXR9V1X dg twithoVtthe XVotes. thi sisthef\n"
          ]
        }
      ]
    },
    {
      "cell_type": "code",
      "source": [
        "#'as RoV can see' must be 'as YoU can see'. So, we replace 'R' by 'Y' and 'V' by 'U'.\n",
        "encryp=encryp.replace('R','y')\n",
        "encryp=encryp.replace('V','u')\n",
        "print(encryp)"
      ],
      "metadata": {
        "colab": {
          "base_uri": "https://localhost:8080/"
        },
        "id": "qLloymWN12p6",
        "outputId": "ec26b6af-286e-41fd-9e2e-a6d88a750430"
      },
      "execution_count": null,
      "outputs": [
        {
          "output_type": "stream",
          "name": "stdout",
          "text": [
            "irst ch amb eroft hecaSes .a syo ucanse e, the rei snot hingo fi nterest in thechamb er .so meofthel ater ch amb erswi llbemore inte re stin gthanthison e!th ecod euse dfo rthi smes sag eisa simples ub s tituti oncipherinwh ichdig it shaSe beensh ifte dby2 places. th e passwor dis irXy9u1X dg twithoutthe Xuotes. thi sisthef\n"
          ]
        }
      ]
    },
    {
      "cell_type": "code",
      "source": [
        "#'Xuotes' must be 'Quotes'. We tried the same but the password got incorrect. So, we figured out that it mightbe 'Kuotes' instead. So, we replace 'X' by 'K'.\n",
        "encryp=encryp.replace('X','k')\n",
        "print(encryp)"
      ],
      "metadata": {
        "colab": {
          "base_uri": "https://localhost:8080/"
        },
        "id": "NqRvPzHR1158",
        "outputId": "d7bd0b93-129b-4f72-b6c2-c89c05e65286"
      },
      "execution_count": null,
      "outputs": [
        {
          "output_type": "stream",
          "name": "stdout",
          "text": [
            "irst ch amb eroft hecaSes .a syo ucanse e, the rei snot hingo fi nterest in thechamb er .so meofthel ater ch amb erswi llbemore inte re stin gthanthison e!th ecod euse dfo rthi smes sag eisa simples ub s tituti oncipherinwh ichdig it shaSe beensh ifte dby2 places. th e passwor dis irky9u1k dg twithoutthe kuotes. thi sisthef\n"
          ]
        }
      ]
    },
    {
      "cell_type": "code",
      "source": [
        "#'caSes' must be 'caVes'. So, we replace 'S' by 'V'.\n",
        "encryp=encryp.replace('S','v')\n",
        "print(encryp)"
      ],
      "metadata": {
        "colab": {
          "base_uri": "https://localhost:8080/"
        },
        "id": "eSceTWos26VZ",
        "outputId": "a6ea7e3e-5f95-4c29-cadf-5d833db6099e"
      },
      "execution_count": null,
      "outputs": [
        {
          "output_type": "stream",
          "name": "stdout",
          "text": [
            "irst ch amb eroft hecaves .a syo ucanse e, the rei snot hingo fi nterest in thechamb er .so meofthel ater ch amb erswi llbemore inte re stin gthanthison e!th ecod euse dfo rthi smes sag eisa simples ub s tituti oncipherinwh ichdig it shave beensh ifte dby2 places. th e passwor dis irky9u1k dg twithoutthe kuotes. thi sisthef\n"
          ]
        }
      ]
    },
    {
      "cell_type": "code",
      "source": [
        "#'B', 'T', 'W', and 'Z' occur 0 times. So, all of them can be assigned left over letters in plain text (q,j,x,z). {W:q; T:j; W:x; Z:z}\n",
        "#Solving the space issue logically we get our final text output as follows:\n",
        "#This is the first chamber of the caves .As you can see, there is nothing of interest in the chamber .Some of the later chambers will be more interesting than this one!The code used for this message is a simple substitution cipher in which digits have been shifted by 2 places. The password is iRky9U1kdgt without the kuotes\n",
        "# We tried this password \"iRky9U1kdgt\". But, it failed. \n",
        "#So, we figured out that \"iRky3U5kdgt\" is the password. It's so because the digits have been shifted by 2 places. \n",
        "#So, the digit 2 is itself shifted by 2 places. Therefore, the message says that the digits are shifted by 2+2= 4 places. \n",
        "#9+4=3, 1+4=5. We tried with the original password but, it didn't work. So, we read the message again and interpreted this information.\n",
        "#Luckily, it worked this time."
      ],
      "metadata": {
        "id": "oWiUYh0G3iQN"
      },
      "execution_count": null,
      "outputs": []
    },
    {
      "cell_type": "markdown",
      "source": [
        "Till now we manually did all the mappings to obtain the solution. To automate it using a mapping array, we can write a combined code that solves our purpose. It is given below:"
      ],
      "metadata": {
        "id": "EiEcETyS414t"
      }
    },
    {
      "cell_type": "code",
      "execution_count": null,
      "metadata": {
        "colab": {
          "base_uri": "https://localhost:8080/"
        },
        "id": "OIxvdUdvMa_O",
        "outputId": "29624bc9-f9f4-40e2-fbd0-efed385249de"
      },
      "outputs": [
        {
          "output_type": "stream",
          "name": "stdout",
          "text": [
            "irst ch amb eroft hecaves .a syo ucanse e, the rei snot hingo fi nterest in thechamb er .so meofthel ater ch amb erswi llbemore inte re stin gthanthison e!th ecod euse dfo rthi smes sag eisa simples ub s tituti oncipherinwh ichdig it shave beensh ifte dby2 places. th e passwor dis irky9u1k dg twithoutthe kuotes. thi sisthef\n",
            "[('a', 'g'), ('b', 'k'), ('c', 'e'), ('d', 'm'), ('e', 'f'), ('f', 't'), ('g', 'o'), ('h', 'a'), ('i', 'h'), ('j', 'p'), ('k', 's'), ('l', 'w'), ('m', 'r'), ('n', 'b'), ('o', 'i'), ('p', 'c'), ('q', 'n'), ('r', 'y'), ('s', 'v'), ('t', 'j'), ('u', 'l'), ('v', 'u'), ('w', 'q'), ('x', 'k'), ('y', 'd'), ('z', 'z')]\n"
          ]
        }
      ],
      "source": [
        "#Writing the mapping of cipher text space with original text using an array of size 26:\n",
        "map=['g','k','e','m','f','t','o','a','h','p','s','w','r','b','i','c','n','y','v','j','l','u','q','k','d','z']\n",
        "#Creating an array of size 26 for original alphabets:\n",
        "alphabets=['a','b','c','d','e','f','g','h','i','j','k','l','m','n','o','p','q','r','s','t','u','v','w','x','y','z']\n",
        "#Entering the cipher text provided to us in the game and storing it as plaintext variable:\n",
        "plaintext=\"omkf pi hdn cmgef icphsck .H krg vphqkc c, fic mco kqgf ioqag eo qfcmckf oq ficpihdn cm .Kg dcgeficu hfcm pi hdn cmklo uuncdgmc oqfc mc kfoq afihqfiokgq c!Fi cpgy cvkc yeg mfio kdck kha cokh kodjuck vn k fofvfo gqpojicmoqli opiyoa of kihsc nccqki oefc ynr2 juhpck. Fi c jhkklgm yok oMxr9V1x ya flofigvffic xvgfck. Fio kokfice\"\n",
        "plaintext=[ c for c in list(plaintext.lower())] #Converting everything to lower case\n",
        "\n",
        "ans=\"\" #Final output is initially a null string\n",
        "for c in list(plaintext): \n",
        "    if ord(c)<=ord('z') and ord(c)>=ord('a'): #If cipher text ranges from a-z then follow below commands:\n",
        "        c=map[ord(c)-ord('a')] #We map it to corresponding plain text using map array\n",
        "    ans+=c; #Append it in ans variable\n",
        "\n",
        "print(''.join(ans)) #Printing the final output\n",
        "\n",
        "#Printing 1 to 1 alphabet mapping from cipher text to main text:\n",
        "key=[(c[0],c[1]) for c in zip(alphabets, map)]\n",
        "print(key)"
      ]
    }
  ]
}